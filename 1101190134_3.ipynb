{
  "nbformat": 4,
  "nbformat_minor": 0,
  "metadata": {
    "colab": {
      "name": "Welcome To Colaboratory",
      "provenance": [],
      "collapsed_sections": [],
      "toc_visible": true,
      "include_colab_link": true
    },
    "kernelspec": {
      "display_name": "Python 3",
      "name": "python3"
    }
  },
  "cells": [
    {
      "cell_type": "markdown",
      "metadata": {
        "id": "view-in-github",
        "colab_type": "text"
      },
      "source": [
        "<a href=\"https://colab.research.google.com/github/fialifia/alifia/blob/main/1101190134_3.ipynb\" target=\"_parent\"><img src=\"https://colab.research.google.com/assets/colab-badge.svg\" alt=\"Open In Colab\"/></a>"
      ]
    },
    {
      "cell_type": "code",
      "metadata": {
        "id": "OIMca0EwLqKX"
      },
      "source": [
        "import numpy as np"
      ],
      "execution_count": 1,
      "outputs": []
    },
    {
      "cell_type": "code",
      "metadata": {
        "id": "B8oHVpnLLtAW"
      },
      "source": [
        "def C1(x) : \n",
        "    if x >= 400 and x <= 1500 :\n",
        "        return 69.55\n",
        "    elif x > 1500 and x <= 2000 :\n",
        "        return 46.3"
      ],
      "execution_count": 2,
      "outputs": []
    },
    {
      "cell_type": "code",
      "metadata": {
        "id": "ZapCQNEELu_8"
      },
      "source": [
        "def C2(x) : \n",
        "    if x >= 400 and x <= 1500 :\n",
        "        return 26.16\n",
        "    elif x > 1500 and x <= 2000 :\n",
        "        return 33.9"
      ],
      "execution_count": 3,
      "outputs": []
    },
    {
      "cell_type": "code",
      "metadata": {
        "id": "G6VjPccyLwyo"
      },
      "source": [
        "def a(x, y) : \n",
        "    return (((1.1*np.log10(y))-0.7)*x) - ((1.56*np.log10(y))-0.8)"
      ],
      "execution_count": 4,
      "outputs": []
    },
    {
      "cell_type": "code",
      "metadata": {
        "id": "QEhS7_u1LynU"
      },
      "source": [
        "def Cm(type, y) : \n",
        "    if type == 1 :\n",
        "        return 0\n",
        "    elif type == 2 :\n",
        "        return (-2*((np.log10(y/28))**2))-54\n",
        "    else :\n",
        "        return (-4.78*((np.log10(y))**2))+(18.33*np.log10(y))-40.94"
      ],
      "execution_count": 5,
      "outputs": []
    },
    {
      "cell_type": "code",
      "metadata": {
        "id": "o_rR9t0hL2NF"
      },
      "source": [
        "def PathLoss(d,f,Type_Cm,hT,hR) :\n",
        "  return C1(f)+(C2(f)*np.log10(f))-(13.83*np.log10(hT))-a(hR, f)+((44.9-(6.55*np.log10(hT)))*np.log10(d))+Cm(Type_Cm, f)"
      ],
      "execution_count": 6,
      "outputs": []
    },
    {
      "cell_type": "code",
      "metadata": {
        "id": "jrtXQWYiL4Dk",
        "outputId": "0bdfc751-2680-4ee6-c995-f0b6bd04dee4",
        "colab": {
          "base_uri": "https://localhost:8080/"
        }
      },
      "source": [
        "PL=PathLoss(1300,1300,5,150,15)\n",
        "print(\"Pathloss dalam db =\",PL,\"dB\")"
      ],
      "execution_count": 7,
      "outputs": [
        {
          "output_type": "stream",
          "text": [
            "Pathloss dalam db = 149.31351280244803 dB\n"
          ],
          "name": "stdout"
        }
      ]
    }
  ]
}