{
  "nbformat": 4,
  "nbformat_minor": 0,
  "metadata": {
    "colab": {
      "name": "Welcome To Colaboratory",
      "provenance": [],
      "collapsed_sections": [],
      "toc_visible": true,
      "include_colab_link": true
    },
    "kernelspec": {
      "display_name": "Python 3",
      "name": "python3"
    }
  },
  "cells": [
    {
      "cell_type": "markdown",
      "metadata": {
        "id": "view-in-github",
        "colab_type": "text"
      },
      "source": [
        "<a href=\"https://colab.research.google.com/github/fialifia/alifia/blob/main/1101190134_4.ipynb\" target=\"_parent\"><img src=\"https://colab.research.google.com/assets/colab-badge.svg\" alt=\"Open In Colab\"/></a>"
      ]
    },
    {
      "cell_type": "markdown",
      "metadata": {
        "id": "0LQ7njTDfUy0"
      },
      "source": [
        "Nur Alifia Azzahra ⏤ 1101190134"
      ]
    },
    {
      "cell_type": "code",
      "metadata": {
        "id": "dTmwXEy2fa0Q"
      },
      "source": [
        "import numpy as np\n",
        "import matplotlib.pyplot as plt"
      ],
      "execution_count": 12,
      "outputs": []
    },
    {
      "cell_type": "markdown",
      "metadata": {
        "id": "Mf0__zJ9flyB"
      },
      "source": [
        "Grafik 1"
      ]
    },
    {
      "cell_type": "code",
      "metadata": {
        "id": "oBnAKjsJfoHa"
      },
      "source": [
        "def cos(frek,tipe,ht,hr,d):\n",
        "    if frek in range(150,1501):\n",
        "        Ca=69.55\n",
        "        Cb=26.16\n",
        "    elif frek in range(1501,2001):\n",
        "        Ca=46.3\n",
        "        Cb=33.9\n",
        "    \n",
        "    if tipe=='urban' :\n",
        "        Cm=0\n",
        "    elif tipe=='suburban' :\n",
        "        Cm= -2*((np.log10((frek/28)**2))-5.4)\n",
        "    elif tipe=='open' :\n",
        "        Cm= -4.78*(np.log10(frek))+18.33*(np.log10(frek))-40.94\n",
        "    else :\n",
        "        Cm='tipe salah'\n",
        "    \n",
        "    ahr = (1.1*np.log10(frek)-0.7)*hr-(1.56*np.log10(frek)-1.8)\n",
        "    Lp = Ca+(Cb*np.log10(frek))-(13.83*np.log(ht))-ahr+((44.9-6.55*np.log10(ht))*np.log10(d))-Cm\n",
        "    \n",
        "    return Lp"
      ],
      "execution_count": 13,
      "outputs": []
    },
    {
      "cell_type": "code",
      "metadata": {
        "id": "kd8QzpqhfsP9"
      },
      "source": [
        "fr=1800 #MHz\n",
        "x1='urban'\n",
        "x2='suburban'\n",
        "x3='open'\n",
        "tower=80 #m\n",
        "user=1.5 #m\n",
        "dmin=500 #m\n",
        "dmax=700 #m\n",
        "N=200 #titik\n",
        "d=np.random.randint(dmin,dmax,N)"
      ],
      "execution_count": 14,
      "outputs": []
    },
    {
      "cell_type": "code",
      "metadata": {
        "id": "qVkefWNbfu6N",
        "outputId": "1069041c-5a5e-45e9-c8b9-d97a20256488",
        "colab": {
          "base_uri": "https://localhost:8080/"
        }
      },
      "source": [
        "print(d)"
      ],
      "execution_count": 15,
      "outputs": [
        {
          "output_type": "stream",
          "text": [
            "[586 562 619 559 625 538 578 581 647 607 646 555 529 639 544 642 674 532\n",
            " 573 607 538 529 527 570 564 614 689 501 672 591 634 578 530 675 663 650\n",
            " 508 539 635 634 639 672 565 604 532 602 505 626 535 520 505 603 603 591\n",
            " 681 561 678 549 567 646 616 590 566 686 528 667 561 632 688 509 674 538\n",
            " 699 599 543 501 662 614 668 615 667 639 591 685 556 602 515 507 540 671\n",
            " 646 533 519 581 671 649 543 577 590 567 560 671 634 517 601 507 611 501\n",
            " 621 552 656 691 687 559 663 503 537 629 542 666 551 662 553 541 692 595\n",
            " 571 642 575 613 553 611 631 511 665 687 630 554 667 639 563 508 597 640\n",
            " 587 529 692 601 519 509 625 548 582 560 546 667 553 644 555 651 650 620\n",
            " 519 598 524 527 513 508 579 668 618 545 643 684 651 649 698 559 624 542\n",
            " 564 650 551 639 666 634 646 593 576 593 644 692 558 531 536 599 576 528\n",
            " 685 642]\n"
          ],
          "name": "stdout"
        }
      ]
    },
    {
      "cell_type": "code",
      "metadata": {
        "id": "O0_tbm8yfyL9"
      },
      "source": [
        "#Pl=PathLoss\n",
        "PlUrban=cos(fr,area1,tower,user,d) \n",
        "PlSuburban=cos(fr,area2,tower,user,d)\n",
        "PlOpen=cos(fr,area3,tower,user,d)"
      ],
      "execution_count": 16,
      "outputs": []
    },
    {
      "cell_type": "code",
      "metadata": {
        "id": "GLhKcXRKfy4d"
      },
      "source": [
        "d_sort=d[np.argsort(d)]\n",
        "Urban_sort=PlUrban[np.argsort(d)]\n",
        "Suburban_sort=PlSuburban[np.argsort(d)]\n",
        "Open_sort=PlOpen[np.argsort(d)]"
      ],
      "execution_count": 17,
      "outputs": []
    },
    {
      "cell_type": "code",
      "metadata": {
        "id": "xgcbryNXf06e",
        "outputId": "4a0c3878-a4ad-451c-9817-96d1bd96254c",
        "colab": {
          "base_uri": "https://localhost:8080/",
          "height": 295
        }
      },
      "source": [
        "plt.figure()\n",
        "plt.plot(d_sort,Urban_sort,'r-', label='Urban')\n",
        "plt.plot(d_sort,Suburban_sort,'g-', label='Suburban')\n",
        "plt.plot(d_sort,Open_sort,'c-', label='Open')\n",
        "plt.legend()\n",
        "plt.title('Contoh Gambar Frekuensi 1800 MHz')\n",
        "plt.xlabel('Jarak (m)')\n",
        "plt.ylabel('Path Loss (dB)')\n",
        "plt.show()"
      ],
      "execution_count": 18,
      "outputs": [
        {
          "output_type": "display_data",
          "data": {
            "image/png": "[encoded data removed]",
            "text/plain": [
              "<Figure size 432x288 with 1 Axes>"
            ]
          },
          "metadata": {
            "tags": [],
            "needs_background": "light"
          }
        }
      ]
    },
    {
      "cell_type": "markdown",
      "metadata": {
        "id": "Ep2g9YK1f5Bm"
      },
      "source": [
        "Grafik 2"
      ]
    },
    {
      "cell_type": "code",
      "metadata": {
        "id": "sXDhoM0Hf6N_"
      },
      "source": [
        "fr1=700 #MHz\n",
        "fr2=900 #MHz\n",
        "fr3=1800 #MHz\n",
        "x1='urban'\n",
        "tower=80 #m\n",
        "user=1.5 #m\n",
        "dmin=500 #m\n",
        "dmax=700 #m\n",
        "N=200 #titik\n",
        "d=np.random.randint(dmin,dmax,N)"
      ],
      "execution_count": 19,
      "outputs": []
    },
    {
      "cell_type": "code",
      "metadata": {
        "id": "y4JbfaiKf8so"
      },
      "source": [
        "PlUrban=cos(fr1,area1,tower,user,d)\n",
        "PlUrban2=cos(fr2,area1,tower,user,d)\n",
        "PlUrban3=cos(fr3,area1,tower,user,d)"
      ],
      "execution_count": 20,
      "outputs": []
    },
    {
      "cell_type": "code",
      "metadata": {
        "id": "EqCLg62of-c1"
      },
      "source": [
        "d_sort=d[np.argsort(d)]\n",
        "Urban_sort=PlUrban[np.argsort(d)]\n",
        "Urban2_sort=PlUrban2[np.argsort(d)]\n",
        "Urban3_sort=PlUrban3[np.argsort(d)]"
      ],
      "execution_count": 21,
      "outputs": []
    },
    {
      "cell_type": "code",
      "metadata": {
        "id": "ES1aNjYNgCFn",
        "outputId": "75b4a3c6-2544-4c70-a3b8-1f30548a100e",
        "colab": {
          "base_uri": "https://localhost:8080/",
          "height": 295
        }
      },
      "source": [
        "plt.figure()\n",
        "plt.plot(d_sort,Urban_sort,'r-', label='700 Mhz')\n",
        "plt.plot(d_sort,Urban2_sort,'g-', label='900 Mhz')\n",
        "plt.plot(d_sort,Urban3_sort,'c-', label='1800 Mhz')\n",
        "plt.legend()\n",
        "plt.title('Contoh Gambar Model Urban')\n",
        "plt.xlabel('Jarak (m)')\n",
        "plt.ylabel('Path Loss (dB)')\n",
        "plt.show()"
      ],
      "execution_count": 22,
      "outputs": [
        {
          "output_type": "display_data",
          "data": {
            "image/png": "[encoded data removed]",
            "text/plain": [
              "<Figure size 432x288 with 1 Axes>"
            ]
          },
          "metadata": {
            "tags": [],
            "needs_background": "light"
          }
        }
      ]
    }
  ]
}