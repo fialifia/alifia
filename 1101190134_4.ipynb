{
  "nbformat": 4,
  "nbformat_minor": 0,
  "metadata": {
    "colab": {
      "name": "Welcome To Colaboratory",
      "provenance": [],
      "collapsed_sections": [],
      "toc_visible": true,
      "include_colab_link": true
    },
    "kernelspec": {
      "display_name": "Python 3",
      "name": "python3"
    }
  },
  "cells": [
    {
      "cell_type": "markdown",
      "metadata": {
        "id": "view-in-github",
        "colab_type": "text"
      },
      "source": [
        "<a href=\"https://colab.research.google.com/github/fialifia/alifia/blob/main/1101190134_4.ipynb\" target=\"_parent\"><img src=\"https://colab.research.google.com/assets/colab-badge.svg\" alt=\"Open In Colab\"/></a>"
      ]
    },
    {
      "cell_type": "markdown",
      "metadata": {
        "id": "0LQ7njTDfUy0"
      },
      "source": [
        "Nur Alifia Azzahra ⏤ 1101190134"
      ]
    },
    {
      "cell_type": "code",
      "metadata": {
        "id": "dTmwXEy2fa0Q"
      },
      "source": [
        "import numpy as np\n",
        "import matplotlib.pyplot as plt"
      ],
      "execution_count": 1,
      "outputs": []
    },
    {
      "cell_type": "markdown",
      "metadata": {
        "id": "Mf0__zJ9flyB"
      },
      "source": [
        "Grafik 1"
      ]
    },
    {
      "cell_type": "code",
      "metadata": {
        "id": "oBnAKjsJfoHa"
      },
      "source": [
        "def cos(frek,tipe,ht,hr,d):\n",
        "    if frek in range(150,1501):\n",
        "        Ca=69.55\n",
        "        Cb=26.16\n",
        "    elif frek in range(1501,2001):\n",
        "        Ca=46.3\n",
        "        Cb=33.9\n",
        "    \n",
        "    if tipe=='urban' :\n",
        "        Cm=0\n",
        "    elif tipe=='suburban' :\n",
        "        Cm= -2*((np.log10((frek/28)**2))-5.4)\n",
        "    elif tipe=='open' :\n",
        "        Cm= -4.78*(np.log10(frek))+18.33*(np.log10(frek))-40.94\n",
        "    else :\n",
        "        Cm='tipe salah'\n",
        "    \n",
        "    ahr = (1.1*np.log10(frek)-0.7)*hr-(1.56*np.log10(frek)-1.8)\n",
        "    Lp = Ca+(Cb*np.log10(frek))-(13.83*np.log(ht))-ahr+((44.9-6.55*np.log10(ht))*np.log10(d))-Cm\n",
        "    \n",
        "    return Lp"
      ],
      "execution_count": 2,
      "outputs": []
    },
    {
      "cell_type": "code",
      "metadata": {
        "id": "kd8QzpqhfsP9"
      },
      "source": [
        "fr=1800 #MHz\n",
        "x1='urban'\n",
        "x2='suburban'\n",
        "x3='open'\n",
        "tower=80 #m\n",
        "user=1.5 #m\n",
        "dmin=500 #m\n",
        "dmax=700 #m\n",
        "N=200 #titik\n",
        "d=np.random.randint(dmin,dmax,N)"
      ],
      "execution_count": 3,
      "outputs": []
    },
    {
      "cell_type": "code",
      "metadata": {
        "id": "qVkefWNbfu6N",
        "colab": {
          "base_uri": "https://localhost:8080/"
        },
        "outputId": "e64e5f6a-1083-4842-ce39-74f194367973"
      },
      "source": [
        "print(d)"
      ],
      "execution_count": 4,
      "outputs": [
        {
          "output_type": "stream",
          "text": [
            "[663 503 630 521 540 683 546 587 556 571 500 531 648 544 653 602 531 609\n",
            " 526 522 567 628 699 551 556 570 577 524 503 531 557 658 639 681 560 622\n",
            " 510 587 592 561 633 697 639 650 677 508 606 665 663 675 544 671 643 680\n",
            " 517 615 663 540 630 616 695 574 643 692 684 661 673 537 634 519 503 683\n",
            " 699 564 507 627 551 690 577 639 572 581 619 609 500 512 635 599 627 547\n",
            " 578 634 610 657 514 686 621 594 604 640 514 615 544 698 615 510 594 543\n",
            " 656 643 512 659 503 626 550 694 510 516 582 628 636 617 509 550 617 586\n",
            " 574 693 662 618 589 625 538 622 635 639 603 698 630 580 682 534 509 567\n",
            " 503 598 516 505 601 502 536 554 518 632 644 648 672 668 683 642 611 667\n",
            " 540 518 684 599 568 534 662 589 500 569 506 550 646 591 672 659 502 610\n",
            " 658 629 689 612 640 602 614 538 684 521 670 504 675 607 670 643 572 545\n",
            " 527 645]\n"
          ],
          "name": "stdout"
        }
      ]
    },
    {
      "cell_type": "code",
      "metadata": {
        "id": "O0_tbm8yfyL9"
      },
      "source": [
        "#Pl=PathLoss\n",
        "PlUrban=cos(fr,x1,tower,user,d) \n",
        "PlSuburban=cos(fr,x2,tower,user,d)\n",
        "PlOpen=cos(fr,x3,tower,user,d)"
      ],
      "execution_count": 5,
      "outputs": []
    },
    {
      "cell_type": "code",
      "metadata": {
        "id": "GLhKcXRKfy4d"
      },
      "source": [
        "d_sort=d[np.argsort(d)]\n",
        "Urban_sort=PlUrban[np.argsort(d)]\n",
        "Suburban_sort=PlSuburban[np.argsort(d)]\n",
        "Open_sort=PlOpen[np.argsort(d)]"
      ],
      "execution_count": 6,
      "outputs": []
    },
    {
      "cell_type": "code",
      "metadata": {
        "id": "xgcbryNXf06e",
        "colab": {
          "base_uri": "https://localhost:8080/",
          "height": 295
        },
        "outputId": "fb80ab84-00be-47ff-b048-c68b4f9fb36d"
      },
      "source": [
        "plt.figure()\n",
        "plt.plot(d_sort,Urban_sort,'r-', label='Urban')\n",
        "plt.plot(d_sort,Suburban_sort,'g-', label='Suburban')\n",
        "plt.plot(d_sort,Open_sort,'c-', label='Open')\n",
        "plt.legend()\n",
        "plt.title('Contoh Gambar Frekuensi 1800 MHz')\n",
        "plt.xlabel('Jarak (m)')\n",
        "plt.ylabel('Path Loss (dB)')\n",
        "plt.show()"
      ],
      "execution_count": 7,
      "outputs": [
        {
          "output_type": "display_data",
          "data": {
            "image/png": "[encoded data removed]",
            "text/plain": [
              "<Figure size 432x288 with 1 Axes>"
            ]
          },
          "metadata": {
            "tags": [],
            "needs_background": "light"
          }
        }
      ]
    },
    {
      "cell_type": "markdown",
      "metadata": {
        "id": "Ep2g9YK1f5Bm"
      },
      "source": [
        "Grafik 2"
      ]
    },
    {
      "cell_type": "code",
      "metadata": {
        "id": "sXDhoM0Hf6N_"
      },
      "source": [
        "fr1=700 #MHz\n",
        "fr2=900 #MHz\n",
        "fr3=1800 #MHz\n",
        "x1='urban'\n",
        "tower=80 #m\n",
        "user=1.5 #m\n",
        "dmin=500 #m\n",
        "dmax=700 #m\n",
        "N=200 #titik\n",
        "d=np.random.randint(dmin,dmax,N)"
      ],
      "execution_count": 8,
      "outputs": []
    },
    {
      "cell_type": "code",
      "metadata": {
        "id": "y4JbfaiKf8so"
      },
      "source": [
        "PlUrban=cos(fr1,x1,tower,user,d)\n",
        "PlUrban2=cos(fr2,x1,tower,user,d)\n",
        "PlUrban3=cos(fr3,x1,tower,user,d)"
      ],
      "execution_count": 9,
      "outputs": []
    },
    {
      "cell_type": "code",
      "metadata": {
        "id": "EqCLg62of-c1"
      },
      "source": [
        "d_sort=d[np.argsort(d)]\n",
        "Urban_sort=PlUrban[np.argsort(d)]\n",
        "Urban2_sort=PlUrban2[np.argsort(d)]\n",
        "Urban3_sort=PlUrban3[np.argsort(d)]"
      ],
      "execution_count": 10,
      "outputs": []
    },
    {
      "cell_type": "code",
      "metadata": {
        "id": "ES1aNjYNgCFn",
        "colab": {
          "base_uri": "https://localhost:8080/",
          "height": 295
        },
        "outputId": "d168325d-d61d-4f18-f496-ad440b50a724"
      },
      "source": [
        "plt.figure()\n",
        "plt.plot(d_sort,Urban_sort,'r-', label='700 Mhz')\n",
        "plt.plot(d_sort,Urban2_sort,'g-', label='900 Mhz')\n",
        "plt.plot(d_sort,Urban3_sort,'c-', label='1800 Mhz')\n",
        "plt.legend()\n",
        "plt.title('Contoh Gambar Model Urban')\n",
        "plt.xlabel('Jarak (m)')\n",
        "plt.ylabel('Path Loss (dB)')\n",
        "plt.show()"
      ],
      "execution_count": 11,
      "outputs": [
        {
          "output_type": "display_data",
          "data": {
            "image/png": "[encoded data removed]",
            "text/plain": [
              "<Figure size 432x288 with 1 Axes>"
            ]
          },
          "metadata": {
            "tags": [],
            "needs_background": "light"
          }
        }
      ]
    }
  ]
}